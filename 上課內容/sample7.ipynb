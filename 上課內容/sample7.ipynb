{
 "cells": [
  {
   "cell_type": "code",
   "execution_count": 8,
   "metadata": {},
   "outputs": [
    {
     "name": "stdout",
     "output_type": "stream",
     "text": [
      "請輸入身份證字號:a123456789\n",
      "a123456789 正確\n"
     ]
    }
   ],
   "source": [
    "import re\n",
    "#r'^[A-Z]\\d{9}$'\n",
    "\n",
    "taiwanId = input('請輸入身份證字號:')\n",
    "mobj = re.match(r'^[A-Z]\\d{9}$',taiwanId,re.I)\n",
    "if mobj:\n",
    "    print(taiwanId,\"正確\")\n",
    "else:\n",
    "    print(taiwanId,\"有誤\")\n"
   ]
  },
  {
   "cell_type": "code",
   "execution_count": 13,
   "metadata": {},
   "outputs": [
    {
     "name": "stdout",
     "output_type": "stream",
     "text": [
      "請輸入多筆email:bogusemail123@sillymail.com, robert@gmail.com ,dsff,sfdsdfsdf,roberthsu2003@gmail.com\n",
      "bogusemail123@sillymail.com\n",
      "robert@gmail.com\n",
      "roberthsu2003@gmail.com\n"
     ]
    }
   ],
   "source": [
    "# r'\\w+[.|\\w]\\w+@\\w+[.]\\w+[.|\\w+]\\w+'\n",
    "import re\n",
    "emails = input('請輸入多筆email:')\n",
    "getEmails = re.findall(r'\\w+[.|\\w]\\w+@\\w+[.]\\w+[.|\\w+]\\w+',emails)\n",
    "\n",
    "for email in getEmails:\n",
    "    print(email)"
   ]
  },
  {
   "cell_type": "code",
   "execution_count": null,
   "metadata": {},
   "outputs": [],
   "source": []
  }
 ],
 "metadata": {
  "kernelspec": {
   "display_name": "Python 3",
   "language": "python",
   "name": "python3"
  },
  "language_info": {
   "codemirror_mode": {
    "name": "ipython",
    "version": 3
   },
   "file_extension": ".py",
   "mimetype": "text/x-python",
   "name": "python",
   "nbconvert_exporter": "python",
   "pygments_lexer": "ipython3",
   "version": "3.7.4"
  }
 },
 "nbformat": 4,
 "nbformat_minor": 2
}
