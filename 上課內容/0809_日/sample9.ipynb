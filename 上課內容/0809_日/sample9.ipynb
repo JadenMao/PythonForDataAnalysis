{
 "cells": [
  {
   "cell_type": "code",
   "execution_count": 15,
   "metadata": {},
   "outputs": [
    {
     "data": {
      "text/plain": [
       "[['stu1', 79, 98, 81, 58, 57],\n",
       " ['stu2', 64, 68, 52, 69, 72],\n",
       " ['stu3', 52, 89, 64, 69, 57],\n",
       " ['stu4', 84, 57, 91, 92, 79],\n",
       " ['stu5', 65, 80, 71, 71, 60],\n",
       " ['stu6', 73, 94, 92, 61, 81],\n",
       " ['stu7', 96, 97, 50, 95, 86],\n",
       " ['stu8', 80, 92, 58, 94, 79],\n",
       " ['stu9', 50, 64, 50, 96, 81],\n",
       " ['stu10', 59, 63, 100, 69, 63],\n",
       " ['stu11', 73, 85, 56, 90, 77],\n",
       " ['stu12', 86, 53, 62, 99, 100],\n",
       " ['stu13', 55, 81, 99, 77, 60],\n",
       " ['stu14', 55, 85, 98, 55, 57],\n",
       " ['stu15', 50, 50, 92, 87, 100],\n",
       " ['stu16', 85, 71, 68, 72, 88],\n",
       " ['stu17', 55, 63, 78, 86, 94],\n",
       " ['stu18', 73, 93, 98, 60, 57],\n",
       " ['stu19', 77, 77, 64, 99, 76],\n",
       " ['stu20', 80, 60, 74, 72, 72],\n",
       " ['stu21', 56, 97, 90, 50, 93],\n",
       " ['stu22', 50, 78, 66, 52, 78],\n",
       " ['stu23', 83, 96, 96, 72, 78],\n",
       " ['stu24', 68, 84, 63, 98, 100],\n",
       " ['stu25', 65, 55, 77, 72, 85],\n",
       " ['stu26', 66, 54, 83, 63, 52],\n",
       " ['stu27', 75, 80, 61, 81, 78],\n",
       " ['stu28', 57, 86, 95, 50, 50],\n",
       " ['stu29', 98, 97, 62, 69, 53],\n",
       " ['stu30', 89, 57, 63, 73, 61],\n",
       " ['stu31', 79, 51, 63, 75, 76],\n",
       " ['stu32', 71, 50, 86, 88, 51],\n",
       " ['stu33', 60, 55, 53, 76, 100],\n",
       " ['stu34', 57, 79, 65, 87, 52],\n",
       " ['stu35', 98, 69, 85, 82, 73],\n",
       " ['stu36', 53, 99, 71, 69, 56],\n",
       " ['stu37', 68, 92, 82, 66, 80],\n",
       " ['stu38', 100, 68, 59, 78, 50],\n",
       " ['stu39', 84, 68, 80, 83, 56],\n",
       " ['stu40', 52, 53, 89, 61, 89],\n",
       " ['stu41', 83, 71, 54, 72, 69],\n",
       " ['stu42', 81, 53, 71, 72, 90],\n",
       " ['stu43', 92, 96, 62, 58, 96],\n",
       " ['stu44', 69, 76, 97, 78, 86],\n",
       " ['stu45', 76, 84, 67, 66, 89],\n",
       " ['stu46', 94, 70, 100, 79, 75],\n",
       " ['stu47', 91, 75, 50, 97, 61],\n",
       " ['stu48', 76, 94, 100, 78, 73],\n",
       " ['stu49', 54, 88, 55, 80, 67],\n",
       " ['stu50', 80, 96, 89, 71, 88]]"
      ]
     },
     "execution_count": 15,
     "metadata": {},
     "output_type": "execute_result"
    }
   ],
   "source": [
    "import random\n",
    "\n",
    "students = list()\n",
    "for i in range(1,51):\n",
    "    scores = []\n",
    "    scores.append('stu'+str(i))\n",
    "    for _ in range(5):\n",
    "        r = random.randint(50,100)\n",
    "        scores.append(r)\n",
    "    students.append(scores)\n",
    "students"
   ]
  },
  {
   "cell_type": "code",
   "execution_count": null,
   "metadata": {},
   "outputs": [],
   "source": []
  }
 ],
 "metadata": {
  "kernelspec": {
   "display_name": "Python 3",
   "language": "python",
   "name": "python3"
  },
  "language_info": {
   "codemirror_mode": {
    "name": "ipython",
    "version": 3
   },
   "file_extension": ".py",
   "mimetype": "text/x-python",
   "name": "python",
   "nbconvert_exporter": "python",
   "pygments_lexer": "ipython3",
   "version": "3.8.0"
  }
 },
 "nbformat": 4,
 "nbformat_minor": 4
}
