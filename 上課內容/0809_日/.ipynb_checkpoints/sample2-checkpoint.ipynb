{
 "cells": [
  {
   "cell_type": "code",
   "execution_count": null,
   "metadata": {},
   "outputs": [],
   "source": [
    "#使用複合指定運算子\n",
    "\n",
    "alphabet = ''\n",
    "alphabet += 'abcdefg'\n",
    "alphabet += 'hijklmnop'\n",
    "alphabet += 'qrstuv'\n",
    "alphabet += 'wxyz'\n",
    "alphabet"
   ]
  },
  {
   "cell_type": "code",
   "execution_count": null,
   "metadata": {},
   "outputs": [],
   "source": [
    "#連結字串符號'\\'\n",
    "alphabet = 'abcdefg\\\n",
    "hijklmnop\\\n",
    "qrstuv\\\n",
    "wxyz\\\n",
    "'\n",
    "alphabet"
   ]
  },
  {
   "cell_type": "code",
   "execution_count": null,
   "metadata": {},
   "outputs": [],
   "source": [
    "#input()\n",
    "\n",
    "a = input(\"輸入整數1a:\")\n",
    "b = input(\"輸入整數1b:\")\n",
    "c = int(input(\"int輸入c:\"))\n",
    "d = int(input(\"int輸入d:\"))\n",
    "f = a+b\n",
    "print(type(f))\n",
    "g = c+d\n",
    "print(type(g))\n",
    "print(f)\n",
    "print(g)"
   ]
  },
  {
   "cell_type": "code",
   "execution_count": 1,
   "metadata": {},
   "outputs": [
    {
     "name": "stdout",
     "output_type": "stream",
     "text": [
      "請輸入被除數(整數):35\n",
      "請輸入除數(整數,不可以為0):2\n",
      "商 17 餘數: 1\n"
     ]
    }
   ],
   "source": [
    "'''\n",
    "讓使用者輸入被除數(整數)及除數(整數，不可以是零)\n",
    "程式會顯示兩數相除的商及餘數。\n",
    "'''\n",
    "n = int(input('請輸入被除數(整數):'))\n",
    "m = int(input('請輸入除數(整數,不可以為0):'))\n",
    "print('商',n // m, '餘數:', n%m)"
   ]
  },
  {
   "cell_type": "code",
   "execution_count": null,
   "metadata": {},
   "outputs": [],
   "source": []
  }
 ],
 "metadata": {
  "kernelspec": {
   "display_name": "Python 3",
   "language": "python",
   "name": "python3"
  },
  "language_info": {
   "codemirror_mode": {
    "name": "ipython",
    "version": 3
   },
   "file_extension": ".py",
   "mimetype": "text/x-python",
   "name": "python",
   "nbconvert_exporter": "python",
   "pygments_lexer": "ipython3",
   "version": "3.7.4"
  }
 },
 "nbformat": 4,
 "nbformat_minor": 2
}
