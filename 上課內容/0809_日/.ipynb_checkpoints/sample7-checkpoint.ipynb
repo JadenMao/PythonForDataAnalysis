{
 "cells": [
  {
   "cell_type": "code",
   "execution_count": 14,
   "metadata": {},
   "outputs": [
    {
     "name": "stdout",
     "output_type": "stream",
     "text": [
      "<class 're.Match'>\n",
      "Hello\n",
      "(0, 5)\n",
      "這串文字最前面有Hello\n"
     ]
    }
   ],
   "source": [
    "import re\n",
    "\n",
    "strText = \"Hello Python Programming\"\n",
    "matchObject = re.match(r\"hello\", strText,re.I)\n",
    "if matchObject is None:\n",
    "    print(\"這串文字最前面沒有Hello\")\n",
    "else:\n",
    "    print(matchObject.__class__)\n",
    "    print(matchObject.group())\n",
    "    print(matchObject.span())\n",
    "    print(\"這串文字最前面有Hello\")"
   ]
  },
  {
   "cell_type": "code",
   "execution_count": 13,
   "metadata": {},
   "outputs": [
    {
     "name": "stdout",
     "output_type": "stream",
     "text": [
      "hello\\nWorld\\nPython\n"
     ]
    }
   ],
   "source": [
    "print(r\"hello\\nWorld\\nPython\")"
   ]
  },
  {
   "cell_type": "code",
   "execution_count": 16,
   "metadata": {},
   "outputs": [
    {
     "name": "stdout",
     "output_type": "stream",
     "text": [
      "文字內部有找到\n",
      "<class 're.Match'>\n",
      "()\n",
      "(9, 10)\n"
     ]
    }
   ],
   "source": [
    "import re\n",
    "matchObject = re.search(r\"\\d\",\"Lalalala 123\")\n",
    "\n",
    "if matchObject is None:\n",
    "    print(\"文字內部沒有找到\")\n",
    "else:\n",
    "    print(\"文字內部有找到\")\n",
    "    print(matchObject.__class__)\n",
    "    print(matchObject.group())\n",
    "    print(matchObject.span())\n",
    "    "
   ]
  },
  {
   "cell_type": "code",
   "execution_count": null,
   "metadata": {},
   "outputs": [],
   "source": []
  }
 ],
 "metadata": {
  "kernelspec": {
   "display_name": "Python 3",
   "language": "python",
   "name": "python3"
  },
  "language_info": {
   "codemirror_mode": {
    "name": "ipython",
    "version": 3
   },
   "file_extension": ".py",
   "mimetype": "text/x-python",
   "name": "python",
   "nbconvert_exporter": "python",
   "pygments_lexer": "ipython3",
   "version": "3.8.0"
  }
 },
 "nbformat": 4,
 "nbformat_minor": 4
}
