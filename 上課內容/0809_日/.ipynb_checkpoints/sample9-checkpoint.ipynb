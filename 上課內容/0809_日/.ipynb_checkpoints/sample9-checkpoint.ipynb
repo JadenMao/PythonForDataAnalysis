{
 "cells": [
  {
   "cell_type": "code",
   "execution_count": 9,
   "metadata": {},
   "outputs": [],
   "source": [
    "import random\n",
    "\n",
    "students = list()\n",
    "for i in range(1,51):\n",
    "    scores = []\n",
    "    scores.append('stu'+str(i))\n",
    "    for _ in range(5):\n",
    "        r = random.randint(50,100)\n",
    "        scores.append(r)\n",
    "    students.append(scores)\n",
    "    \n",
    "file=open('students.txt','w',encoding='utf-8')\n",
    "file.write(str(students))\n",
    "file.close()"
   ]
  },
  {
   "cell_type": "code",
   "execution_count": 4,
   "metadata": {},
   "outputs": [],
   "source": [
    "#open()\n",
    "#建立txt檔\n",
    "text = '''python與中文\n",
    "1. 我們來試試看中文儲存能力。\n",
    "2. 許這個字會有編碼衝突風險。\n",
    "3. 犇這個字必須是utf8編碼才有。\n",
    "'''\n",
    "file=open('data.txt','w',encoding='utf-8')\n",
    "file.write(text)\n",
    "file.close()"
   ]
  },
  {
   "cell_type": "code",
   "execution_count": 10,
   "metadata": {},
   "outputs": [
    {
     "name": "stdout",
     "output_type": "stream",
     "text": [
      "python與中文\n",
      "1. 我們來試試看中文儲存能力。\n",
      "2. 許這個字會有編碼衝突風險。\n",
      "3. 犇這個字必須是utf8編碼才有。\n",
      "\n"
     ]
    }
   ],
   "source": [
    "#讀取檔案\n",
    "file=open('data.txt','r',encoding='utf-8')\n",
    "content=file.read()\n",
    "print(content)\n",
    "file.close()"
   ]
  },
  {
   "cell_type": "code",
   "execution_count": 11,
   "metadata": {},
   "outputs": [
    {
     "name": "stdout",
     "output_type": "stream",
     "text": [
      "[['stu1', 78, 54, 83, 53, 57], ['stu2', 62, 85, 88, 67, 68], ['stu3', 80, 90, 56, 87, 64], ['stu4', 59, 95, 84, 54, 79], ['stu5', 78, 56, 93, 50, 71], ['stu6', 59, 56, 73, 68, 71], ['stu7', 75, 78, 89, 73, 57], ['stu8', 97, 82, 68, 67, 98], ['stu9', 65, 79, 91, 61, 85], ['stu10', 64, 78, 98, 88, 80], ['stu11', 77, 99, 67, 93, 59], ['stu12', 80, 68, 75, 94, 78], ['stu13', 62, 58, 71, 53, 92], ['stu14', 56, 100, 64, 83, 59], ['stu15', 57, 87, 92, 71, 64], ['stu16', 52, 87, 62, 90, 82], ['stu17', 76, 87, 78, 63, 90], ['stu18', 80, 76, 62, 77, 53], ['stu19', 83, 74, 58, 67, 94], ['stu20', 58, 68, 67, 94, 93], ['stu21', 53, 99, 52, 98, 57], ['stu22', 82, 58, 67, 64, 66], ['stu23', 54, 64, 77, 76, 62], ['stu24', 83, 78, 90, 97, 58], ['stu25', 85, 94, 98, 87, 69], ['stu26', 93, 64, 86, 90, 55], ['stu27', 50, 61, 91, 60, 82], ['stu28', 63, 100, 80, 75, 62], ['stu29', 56, 99, 78, 95, 90], ['stu30', 57, 76, 69, 61, 77], ['stu31', 61, 72, 94, 52, 66], ['stu32', 62, 95, 74, 68, 70], ['stu33', 52, 82, 100, 92, 63], ['stu34', 65, 54, 63, 50, 85], ['stu35', 64, 93, 81, 62, 67], ['stu36', 86, 52, 74, 70, 61], ['stu37', 83, 90, 55, 83, 60], ['stu38', 71, 56, 89, 83, 89], ['stu39', 74, 78, 78, 69, 71], ['stu40', 61, 62, 68, 83, 86], ['stu41', 90, 97, 99, 89, 85], ['stu42', 98, 55, 66, 56, 74], ['stu43', 79, 76, 53, 52, 100], ['stu44', 95, 70, 94, 82, 91], ['stu45', 52, 62, 96, 92, 79], ['stu46', 64, 86, 90, 88, 91], ['stu47', 86, 78, 92, 60, 67], ['stu48', 61, 69, 60, 95, 52], ['stu49', 99, 51, 66, 90, 76], ['stu50', 54, 59, 59, 59, 86]]\n"
     ]
    }
   ],
   "source": [
    "#讀取檔案\n",
    "file=open('students.txt','r',encoding='utf-8')\n",
    "content=file.read()\n",
    "print(content)\n",
    "file.close()"
   ]
  },
  {
   "cell_type": "code",
   "execution_count": null,
   "metadata": {},
   "outputs": [],
   "source": []
  }
 ],
 "metadata": {
  "kernelspec": {
   "display_name": "Python 3",
   "language": "python",
   "name": "python3"
  },
  "language_info": {
   "codemirror_mode": {
    "name": "ipython",
    "version": 3
   },
   "file_extension": ".py",
   "mimetype": "text/x-python",
   "name": "python",
   "nbconvert_exporter": "python",
   "pygments_lexer": "ipython3",
   "version": "3.8.0"
  }
 },
 "nbformat": 4,
 "nbformat_minor": 4
}
