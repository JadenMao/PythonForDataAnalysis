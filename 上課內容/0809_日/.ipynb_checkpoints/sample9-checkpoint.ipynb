{
 "cells": [
  {
   "cell_type": "code",
   "execution_count": 1,
   "metadata": {},
   "outputs": [
    {
     "data": {
      "text/plain": [
       "[['stu1', 90, 85, 98, 63, 54],\n",
       " ['stu2', 59, 53, 61, 57, 63],\n",
       " ['stu3', 96, 62, 61, 54, 77],\n",
       " ['stu4', 63, 59, 65, 84, 74],\n",
       " ['stu5', 77, 94, 96, 72, 63],\n",
       " ['stu6', 95, 57, 62, 66, 70],\n",
       " ['stu7', 73, 71, 80, 96, 79],\n",
       " ['stu8', 73, 52, 100, 59, 57],\n",
       " ['stu9', 77, 56, 59, 95, 58],\n",
       " ['stu10', 70, 58, 85, 94, 63],\n",
       " ['stu11', 69, 98, 61, 90, 73],\n",
       " ['stu12', 73, 71, 78, 80, 86],\n",
       " ['stu13', 73, 71, 68, 51, 92],\n",
       " ['stu14', 83, 60, 78, 83, 70],\n",
       " ['stu15', 86, 65, 88, 60, 87],\n",
       " ['stu16', 92, 57, 79, 89, 94],\n",
       " ['stu17', 95, 92, 95, 71, 83],\n",
       " ['stu18', 63, 52, 54, 82, 88],\n",
       " ['stu19', 66, 77, 68, 78, 80],\n",
       " ['stu20', 85, 82, 77, 55, 55],\n",
       " ['stu21', 59, 88, 66, 66, 87],\n",
       " ['stu22', 93, 90, 75, 81, 68],\n",
       " ['stu23', 90, 92, 71, 81, 95],\n",
       " ['stu24', 65, 59, 62, 67, 60],\n",
       " ['stu25', 66, 81, 50, 100, 81],\n",
       " ['stu26', 60, 57, 89, 55, 52],\n",
       " ['stu27', 80, 64, 57, 65, 99],\n",
       " ['stu28', 96, 68, 66, 94, 57],\n",
       " ['stu29', 62, 63, 70, 97, 97],\n",
       " ['stu30', 59, 81, 59, 96, 89],\n",
       " ['stu31', 89, 92, 100, 54, 63],\n",
       " ['stu32', 86, 58, 87, 75, 50],\n",
       " ['stu33', 67, 78, 78, 61, 88],\n",
       " ['stu34', 80, 80, 80, 55, 66],\n",
       " ['stu35', 72, 84, 61, 76, 50],\n",
       " ['stu36', 62, 78, 87, 94, 73],\n",
       " ['stu37', 75, 73, 88, 64, 76],\n",
       " ['stu38', 51, 72, 100, 56, 71],\n",
       " ['stu39', 68, 82, 94, 96, 74],\n",
       " ['stu40', 50, 63, 90, 88, 51],\n",
       " ['stu41', 89, 85, 94, 54, 64],\n",
       " ['stu42', 86, 95, 89, 79, 91],\n",
       " ['stu43', 84, 88, 71, 77, 69],\n",
       " ['stu44', 69, 92, 99, 92, 68],\n",
       " ['stu45', 72, 52, 84, 51, 95],\n",
       " ['stu46', 63, 59, 60, 62, 83],\n",
       " ['stu47', 90, 89, 98, 57, 83],\n",
       " ['stu48', 51, 50, 65, 89, 68],\n",
       " ['stu49', 62, 86, 60, 51, 57],\n",
       " ['stu50', 66, 99, 76, 52, 71]]"
      ]
     },
     "execution_count": 1,
     "metadata": {},
     "output_type": "execute_result"
    }
   ],
   "source": [
    "import random\n",
    "\n",
    "students = list()\n",
    "for i in range(1,51):\n",
    "    scores = []\n",
    "    scores.append('stu'+str(i))\n",
    "    for _ in range(5):\n",
    "        r = random.randint(50,100)\n",
    "        scores.append(r)\n",
    "    students.append(scores)\n",
    "students"
   ]
  },
  {
   "cell_type": "code",
   "execution_count": 4,
   "metadata": {},
   "outputs": [],
   "source": [
    "#open()\n",
    "#建立txt檔\n",
    "text = '''python與中文\n",
    "1. 我們來試試看中文儲存能力。\n",
    "2. 許這個字會有編碼衝突風險。\n",
    "3. 犇這個字必須是utf8編碼才有。\n",
    "'''\n",
    "file=open('data.txt','w',encoding='utf-8')\n",
    "file.write(text)\n",
    "file.close()"
   ]
  },
  {
   "cell_type": "code",
   "execution_count": null,
   "metadata": {},
   "outputs": [],
   "source": []
  }
 ],
 "metadata": {
  "kernelspec": {
   "display_name": "Python 3",
   "language": "python",
   "name": "python3"
  },
  "language_info": {
   "codemirror_mode": {
    "name": "ipython",
    "version": 3
   },
   "file_extension": ".py",
   "mimetype": "text/x-python",
   "name": "python",
   "nbconvert_exporter": "python",
   "pygments_lexer": "ipython3",
   "version": "3.8.0"
  }
 },
 "nbformat": 4,
 "nbformat_minor": 4
}
