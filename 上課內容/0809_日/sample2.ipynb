{
 "cells": [
  {
   "cell_type": "code",
   "execution_count": null,
   "metadata": {},
   "outputs": [],
   "source": [
    "#使用複合指定運算子\n",
    "\n",
    "alphabet = ''\n",
    "alphabet += 'abcdefg'\n",
    "alphabet += 'hijklmnop'\n",
    "alphabet += 'qrstuv'\n",
    "alphabet += 'wxyz'\n",
    "alphabet"
   ]
  },
  {
   "cell_type": "code",
   "execution_count": null,
   "metadata": {},
   "outputs": [],
   "source": [
    "#連結字串符號'\\'\n",
    "alphabet = 'abcdefg\\\n",
    "hijklmnop\\\n",
    "qrstuv\\\n",
    "wxyz\\\n",
    "'\n",
    "alphabet"
   ]
  },
  {
   "cell_type": "code",
   "execution_count": null,
   "metadata": {},
   "outputs": [],
   "source": [
    "#input()\n",
    "\n",
    "a = input(\"輸入整數1a:\")\n",
    "b = input(\"輸入整數1b:\")\n",
    "c = int(input(\"int輸入c:\"))\n",
    "d = int(input(\"int輸入d:\"))\n",
    "f = a+b\n",
    "print(type(f))\n",
    "g = c+d\n",
    "print(type(g))\n",
    "print(f)\n",
    "print(g)"
   ]
  },
  {
   "cell_type": "code",
   "execution_count": 1,
   "metadata": {},
   "outputs": [
    {
     "name": "stdout",
     "output_type": "stream",
     "text": [
      "請輸入被除數(整數):35\n",
      "請輸入除數(整數,不可以為0):2\n",
      "商 17 餘數: 1\n"
     ]
    }
   ],
   "source": [
    "'''\n",
    "讓使用者輸入被除數(整數)及除數(整數，不可以是零)\n",
    "程式會顯示兩數相除的商及餘數。\n",
    "'''\n",
    "n = int(input('請輸入被除數(整數):'))\n",
    "m = int(input('請輸入除數(整數,不可以為0):'))\n",
    "print('商',n // m, '餘數:', n%m)"
   ]
  },
  {
   "cell_type": "code",
   "execution_count": 18,
   "metadata": {},
   "outputs": [
    {
     "name": "stdout",
     "output_type": "stream",
     "text": [
      "請輸入手機金額:4000.2\n",
      "剩餘款為:999.8000000000002\n"
     ]
    }
   ],
   "source": [
    "money = 5000.0\n",
    "cellMoney=eval(input(\"請輸入手機金額:\"))\n",
    "money -= cellMoney\n",
    "print(\"剩餘款為:\" + str(money))"
   ]
  },
  {
   "cell_type": "code",
   "execution_count": 10,
   "metadata": {},
   "outputs": [
    {
     "data": {
      "text/plain": [
       "3"
      ]
     },
     "execution_count": 10,
     "metadata": {},
     "output_type": "execute_result"
    }
   ],
   "source": [
    "eval(\"3\")"
   ]
  },
  {
   "cell_type": "code",
   "execution_count": 19,
   "metadata": {},
   "outputs": [
    {
     "name": "stdout",
     "output_type": "stream",
     "text": [
      "請輸入圓柱體的半徑(公分):5.4\n",
      "請輸入圓柱體的高(公分):10.3\n",
      "圓柱體的體積: 943.5702733200002 立方公分\n"
     ]
    }
   ],
   "source": [
    "'''\n",
    "使用者輸入圓柱體的半徑及高，程式會計算圓柱體的體積\n",
    "圓柱體體積的公式為「圓週率乘以半徑平方再乘以高」。\n",
    "'''\n",
    "PI = 3.14159\n",
    "radius = eval(input('請輸入圓柱體的半徑(公分):'))\n",
    "height = eval(input('請輸入圓柱體的高(公分):'))\n",
    "area = radius ** 2 * PI * height\n",
    "print('圓柱體的體積:', area, '立方公分')"
   ]
  },
  {
   "cell_type": "code",
   "execution_count": 21,
   "metadata": {},
   "outputs": [
    {
     "data": {
      "text/plain": [
       "4"
      ]
     },
     "execution_count": 21,
     "metadata": {},
     "output_type": "execute_result"
    }
   ],
   "source": [
    "(-2) ** 2"
   ]
  },
  {
   "cell_type": "code",
   "execution_count": 24,
   "metadata": {},
   "outputs": [
    {
     "data": {
      "text/plain": [
       "False"
      ]
     },
     "execution_count": 24,
     "metadata": {},
     "output_type": "execute_result"
    }
   ],
   "source": [
    "x = 7\n",
    "x == 5"
   ]
  },
  {
   "cell_type": "code",
   "execution_count": 25,
   "metadata": {},
   "outputs": [
    {
     "data": {
      "text/plain": [
       "True"
      ]
     },
     "execution_count": 25,
     "metadata": {},
     "output_type": "execute_result"
    }
   ],
   "source": [
    "x == 7"
   ]
  },
  {
   "cell_type": "code",
   "execution_count": 26,
   "metadata": {},
   "outputs": [
    {
     "data": {
      "text/plain": [
       "True"
      ]
     },
     "execution_count": 26,
     "metadata": {},
     "output_type": "execute_result"
    }
   ],
   "source": [
    "5 < 10"
   ]
  },
  {
   "cell_type": "code",
   "execution_count": 27,
   "metadata": {},
   "outputs": [
    {
     "data": {
      "text/plain": [
       "False"
      ]
     },
     "execution_count": 27,
     "metadata": {},
     "output_type": "execute_result"
    }
   ],
   "source": [
    "5 > 10 "
   ]
  },
  {
   "cell_type": "code",
   "execution_count": 30,
   "metadata": {},
   "outputs": [
    {
     "name": "stdout",
     "output_type": "stream",
     "text": [
      "大於18\n",
      "程式結束\n"
     ]
    }
   ],
   "source": [
    "#單向\n",
    "a = 21\n",
    "if a > 18:\n",
    "    print(\"大於18\")\n",
    "print(\"程式結束\")"
   ]
  },
  {
   "cell_type": "code",
   "execution_count": 33,
   "metadata": {},
   "outputs": [
    {
     "name": "stdout",
     "output_type": "stream",
     "text": [
      "大於18\n",
      "程式結束\n"
     ]
    }
   ],
   "source": [
    "#雙向\n",
    "a = 35\n",
    "if a > 18:\n",
    "    print(\"大於18\")\n",
    "else:\n",
    "    print('小於或等於18')\n",
    "print(\"程式結束\")"
   ]
  },
  {
   "cell_type": "code",
   "execution_count": 36,
   "metadata": {},
   "outputs": [
    {
     "name": "stdout",
     "output_type": "stream",
     "text": [
      "小於12\n"
     ]
    }
   ],
   "source": [
    "#多向\n",
    "a = 11\n",
    "#有問題的設計\n",
    "if a > 12:\n",
    "    print(\"大於12\")\n",
    "elif a > 18:\n",
    "    print(\"大於18\")\n",
    "else:\n",
    "    print(\"小於12\")"
   ]
  },
  {
   "cell_type": "code",
   "execution_count": 37,
   "metadata": {},
   "outputs": [
    {
     "name": "stdout",
     "output_type": "stream",
     "text": [
      "大於12\n"
     ]
    }
   ],
   "source": [
    "#多向\n",
    "a = 17\n",
    "\n",
    "if a > 18:\n",
    "    print(\"大於18\")\n",
    "elif a > 11:\n",
    "    print(\"大於12\")\n",
    "else:\n",
    "    print(\"小於12\")"
   ]
  },
  {
   "cell_type": "code",
   "execution_count": 38,
   "metadata": {},
   "outputs": [
    {
     "name": "stdout",
     "output_type": "stream",
     "text": [
      "請輸入購買金額:140000\n",
      "實付金額是: 112000.0 元\n"
     ]
    }
   ],
   "source": [
    "'''\n",
    "輸入顧客購買金額，若金額在\n",
    "- 100000元打8折\n",
    "- 50000打85折\n",
    "- 30000打9折\n",
    "- 10000打95折\n",
    "'''\n",
    "money = int(input('請輸入購買金額:'))\n",
    "if money >= 100000:\n",
    "    payMoney = money * 0.8\n",
    "elif money >= 50000:\n",
    "    payMoney = money * 0.85\n",
    "elif money >= 30000:\n",
    "    payMoney = money * 0.9\n",
    "elif money >= 10000:\n",
    "    payMoney = money * 0.95\n",
    "else:\n",
    "    payMoney = money\n",
    "print('實付金額是:', payMoney,'元')"
   ]
  }
 ],
 "metadata": {
  "kernelspec": {
   "display_name": "Python 3",
   "language": "python",
   "name": "python3"
  },
  "language_info": {
   "codemirror_mode": {
    "name": "ipython",
    "version": 3
   },
   "file_extension": ".py",
   "mimetype": "text/x-python",
   "name": "python",
   "nbconvert_exporter": "python",
   "pygments_lexer": "ipython3",
   "version": "3.7.4"
  }
 },
 "nbformat": 4,
 "nbformat_minor": 2
}
