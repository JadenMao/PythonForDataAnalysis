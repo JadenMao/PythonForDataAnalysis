{
 "cells": [
  {
   "cell_type": "code",
   "execution_count": null,
   "metadata": {},
   "outputs": [],
   "source": [
    "a = 6\n",
    "while a > 0:\n",
    "    print(a)\n",
    "    a -= 1\n",
    "print(\"程式結束\")"
   ]
  },
  {
   "cell_type": "code",
   "execution_count": null,
   "metadata": {},
   "outputs": [],
   "source": [
    "#2 - 10所有偶數的總和\n",
    "i = 2\n",
    "sum = 0\n",
    "while i<=10:\n",
    "    sum += i\n",
    "    i += 2\n",
    "print(\"總合為\" + str(sum))"
   ]
  },
  {
   "cell_type": "code",
   "execution_count": 2,
   "metadata": {},
   "outputs": [
    {
     "name": "stdout",
     "output_type": "stream",
     "text": [
      "迴圈的次數1總合為2\n",
      "迴圈的次數2總合為6\n",
      "迴圈的次數3總合為12\n",
      "迴圈的次數4總合為20\n",
      "迴圈的次數5總合為30\n",
      "程式結束\n"
     ]
    }
   ],
   "source": [
    "#2 - 10所有偶數的總和\n",
    "i = 2\n",
    "sum = 0\n",
    "while i<=10:\n",
    "    sum += i   \n",
    "    #summary = \"迴圈的次數%d總合為%d\" % (i//2,sum)\n",
    "    #print(\"迴圈的次數\"+ str(i//2) + \"總合為\" + str(sum))\n",
    "    print(\"迴圈的次數%d總合為%d\" % (i//2,sum))\n",
    "    i += 2\n",
    "print(\"程式結束\")"
   ]
  },
  {
   "cell_type": "code",
   "execution_count": null,
   "metadata": {},
   "outputs": [],
   "source": [
    "#使用時機,不明確知道要執行幾次迴圈\n",
    "#配合條件式if,並使用break停止迴圈\n",
    "\n",
    "while(True):\n",
    "    stuff=input(\"請輸入小寫英文字[按q會離開]:\")\n",
    "    if stuff == 'q':\n",
    "        break\n",
    "    print('長度:%d' % len(stuff))\n",
    "    print(stuff.upper())\n",
    "print('程式結束')"
   ]
  },
  {
   "cell_type": "code",
   "execution_count": 9,
   "metadata": {},
   "outputs": [
    {
     "name": "stdout",
     "output_type": "stream",
     "text": [
      "請輸入第1位學生的成績78\n",
      "請輸入第2位學生的成績95\n",
      "請輸入第3位學生的成績78\n",
      "請輸入第4位學生的成績56\n",
      "請輸入第5位學生的成績87\n",
      "請輸入第6位學生的成績-1\n",
      "全班總成績為:394平均分數為:78.80\n"
     ]
    }
   ],
   "source": [
    "#小美是一位教師，請你以while迴圈方式為小美設計一個輸入成績的程式，如果輸入負數表示成績輸入結束，在輸入成績結束後顯示班上總成績及平均成績\n",
    "num = 0\n",
    "sum = 0\n",
    "while(True):    \n",
    "    score = int(input(\"請輸入第%d位學生的成績\" % (num+1)))\n",
    "    if score < 0:\n",
    "        break\n",
    "    num += 1\n",
    "    sum += score\n",
    "print('全班總成績為:%d平均分數為:%.2f' % (sum, sum/num))   "
   ]
  },
  {
   "cell_type": "code",
   "execution_count": 10,
   "metadata": {},
   "outputs": [
    {
     "name": "stdout",
     "output_type": "stream",
     "text": [
      "請輸入整數,輸入[q]離開:5\n",
      "5的平方是25\n",
      "請輸入整數,輸入[q]離開:8\n",
      "請輸入整數,輸入[q]離開:11\n",
      "11的平方是121\n",
      "請輸入整數,輸入[q]離開:10\n",
      "請輸入整數,輸入[q]離開:q\n",
      "程式結束\n"
     ]
    }
   ],
   "source": [
    "'''\n",
    "顯示:\n",
    "奇數輸出平方\n",
    "偶數不做任何動作\n",
    "'q'要離開\n",
    "\n",
    "'''\n",
    "\n",
    "while True:\n",
    "    value = input(\"請輸入整數,輸入[q]離開:\")\n",
    "    if value == 'q':\n",
    "        break\n",
    "    number = int(value)\n",
    "    if number % 2 == 0:\n",
    "        continue   \n",
    "    print(\"%d的平方是%d\" % (number, number ** 2))\n",
    "print('程式結束')"
   ]
  },
  {
   "cell_type": "code",
   "execution_count": null,
   "metadata": {},
   "outputs": [
    {
     "name": "stdout",
     "output_type": "stream",
     "text": [
      "===============猜數字遊戲=================:\n",
      "\n",
      "猜數字範圍1~100:56\n",
      "再大一點\n",
      "您猜了 1 次\n",
      "\n",
      "猜數字範圍56~100:89\n",
      "再大一點\n",
      "您猜了 2 次\n",
      "\n",
      "猜數字範圍89~100:94\n",
      "再小一點\n",
      "您猜了 3 次\n",
      "\n",
      "猜數字範圍89~94:92\n",
      "再小一點\n",
      "您猜了 4 次\n",
      "\n"
     ]
    }
   ],
   "source": [
    "import random\n",
    "min = 1\n",
    "max = 100\n",
    "count = 0\n",
    "target = random.randint(1, 100)\n",
    "print(\"===============猜數字遊戲=================:\\n\")\n",
    "while(True):\n",
    "    count += 1\n",
    "    keyin = int(input(\"猜數字範圍{0}~{1}:\".format(min, max)))\n",
    "    if(keyin >=min and keyin <= max):\n",
    "        if(keyin == target):\n",
    "            print(\"賓果!猜對了, 答案是:\", target)\n",
    "            print(\"您猜了\",count,\"次\")\n",
    "            break\n",
    "        elif (keyin > target):\n",
    "            max = keyin\n",
    "            print(\"再小一點\")\n",
    "        elif (keyin < target):\n",
    "            min = keyin\n",
    "            print(\"再大一點\")\n",
    "        print(\"您猜了\",count,\"次\\n\")\n",
    "    else:\n",
    "        print(\"請輸入提示範圍內的數字\")"
   ]
  },
  {
   "cell_type": "code",
   "execution_count": null,
   "metadata": {},
   "outputs": [],
   "source": []
  }
 ],
 "metadata": {
  "kernelspec": {
   "display_name": "Python 3",
   "language": "python",
   "name": "python3"
  },
  "language_info": {
   "codemirror_mode": {
    "name": "ipython",
    "version": 3
   },
   "file_extension": ".py",
   "mimetype": "text/x-python",
   "name": "python",
   "nbconvert_exporter": "python",
   "pygments_lexer": "ipython3",
   "version": "3.8.0"
  }
 },
 "nbformat": 4,
 "nbformat_minor": 2
}
