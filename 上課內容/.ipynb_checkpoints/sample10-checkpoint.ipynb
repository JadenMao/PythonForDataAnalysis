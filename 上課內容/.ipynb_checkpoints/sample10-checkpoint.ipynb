{
 "cells": [
  {
   "cell_type": "code",
   "execution_count": 6,
   "metadata": {},
   "outputs": [
    {
     "data": {
      "text/plain": [
       "'robert年:40,共有多少錢:1000.2123'"
      ]
     },
     "execution_count": 6,
     "metadata": {},
     "output_type": "execute_result"
    }
   ],
   "source": [
    "name = \"robert\"\n",
    "age = 40\n",
    "money = 1000.2123\n",
    "name + \"年:\" + str(age) + \",共有多少錢:\" + str(money)"
   ]
  },
  {
   "cell_type": "code",
   "execution_count": 10,
   "metadata": {},
   "outputs": [
    {
     "data": {
      "text/plain": [
       "'robert年齡:40,共有多少錢:1000.21'"
      ]
     },
     "execution_count": 10,
     "metadata": {},
     "output_type": "execute_result"
    }
   ],
   "source": [
    "#字串格式化\n",
    "#建立新的字串\n",
    "#使用新的字串格式化方式\n",
    "\"{:s}年齡:{:d},共有多少錢:{:.2f}\".format(name,age,money)"
   ]
  },
  {
   "cell_type": "code",
   "execution_count": 8,
   "metadata": {},
   "outputs": [
    {
     "data": {
      "text/plain": [
       "'robert年齡:40,共有多少錢1000.21'"
      ]
     },
     "execution_count": 8,
     "metadata": {},
     "output_type": "execute_result"
    }
   ],
   "source": [
    "#使用舊的字串格式化方式\n",
    "\"%s年齡:%d,共有多少錢%.2f\" % (name,age,money)"
   ]
  },
  {
   "cell_type": "code",
   "execution_count": 11,
   "metadata": {},
   "outputs": [
    {
     "data": {
      "text/plain": [
       "{'wine': '波爾', 'entree': '牛排', 'dessert': '蛋糕'}"
      ]
     },
     "execution_count": 11,
     "metadata": {},
     "output_type": "execute_result"
    }
   ],
   "source": [
    "#要看的懂說明書\n",
    "#進階的函式(函數,function)\n",
    "def menu(wine,entree,dessert):\n",
    "    return {'wine':wine, 'entree':entree, 'dessert':dessert}\n",
    "\n",
    "#引數位置的呼叫\n",
    "menu('波爾','牛排', '蛋糕')"
   ]
  },
  {
   "cell_type": "code",
   "execution_count": 12,
   "metadata": {},
   "outputs": [
    {
     "data": {
      "text/plain": [
       "{'wine': '波爾', 'entree': '牛排', 'dessert': '蛋糕'}"
      ]
     },
     "execution_count": 12,
     "metadata": {},
     "output_type": "execute_result"
    }
   ],
   "source": [
    "#引數名稱的呼叫\n",
    "\n",
    "menu(wine='波爾',entree='牛排',dessert='蛋糕')"
   ]
  },
  {
   "cell_type": "code",
   "execution_count": 13,
   "metadata": {},
   "outputs": [
    {
     "data": {
      "text/plain": [
       "{'wine': '波爾', 'entree': '牛排', 'dessert': '蛋糕'}"
      ]
     },
     "execution_count": 13,
     "metadata": {},
     "output_type": "execute_result"
    }
   ],
   "source": [
    "#使用引數名稱的呼叫,可以不依位置\n",
    "menu(dessert='蛋糕',wine='波爾',entree='牛排')"
   ]
  },
  {
   "cell_type": "code",
   "execution_count": 15,
   "metadata": {},
   "outputs": [
    {
     "data": {
      "text/plain": [
       "{'wine': '波爾', 'entree': '牛排', 'dessert': '蛋糕'}"
      ]
     },
     "execution_count": 15,
     "metadata": {},
     "output_type": "execute_result"
    }
   ],
   "source": [
    "#混合式呼叫\n",
    "#前面先使用引數位置\n",
    "#後面再使用引數名稱\n",
    "#只要使用引數名稱後,後面全部要使用引數名稱\n",
    "\n",
    "menu('波爾',dessert='蛋糕',entree='牛排')"
   ]
  },
  {
   "cell_type": "code",
   "execution_count": 16,
   "metadata": {},
   "outputs": [],
   "source": [
    "#指定預設參數的值\n",
    "#有預設參數的值,呼叫時可以省略\n",
    "\n",
    "def menu(wine='玫瑰',entree='雞排',dessert='布丁'):\n",
    "    return {'wine':wine, 'entree':entree, 'dessert':dessert}"
   ]
  },
  {
   "cell_type": "code",
   "execution_count": 17,
   "metadata": {},
   "outputs": [
    {
     "data": {
      "text/plain": [
       "{'wine': '玫瑰', 'entree': '雞排', 'dessert': '布丁'}"
      ]
     },
     "execution_count": 17,
     "metadata": {},
     "output_type": "execute_result"
    }
   ],
   "source": [
    "menu()"
   ]
  },
  {
   "cell_type": "code",
   "execution_count": 18,
   "metadata": {},
   "outputs": [
    {
     "data": {
      "text/plain": [
       "{'wine': '波爾', 'entree': '雞排', 'dessert': '蛋糕'}"
      ]
     },
     "execution_count": 18,
     "metadata": {},
     "output_type": "execute_result"
    }
   ],
   "source": [
    "menu('波爾',dessert='蛋糕')"
   ]
  },
  {
   "cell_type": "code",
   "execution_count": 19,
   "metadata": {},
   "outputs": [
    {
     "name": "stdout",
     "output_type": "stream",
     "text": [
      "(1, 2, 3, 5, 9, 20, 50)\n"
     ]
    }
   ],
   "source": [
    "#呼叫時,不限數量的使用引數位置\n",
    "\n",
    "def print_value(*args):\n",
    "    print(args)\n",
    "\n",
    "print_value(1, 2, 3, 5, 9, 20, 50)"
   ]
  },
  {
   "cell_type": "code",
   "execution_count": null,
   "metadata": {},
   "outputs": [],
   "source": [
    "#呼叫時,不限數量的使用引數名稱\n",
    "def print_keyValue(**kwargs):\n",
    "    print(kwargs)\n",
    "\n",
    "print_keyValue(tw='taiwan',hk='hongKong',jp='japan')"
   ]
  }
 ],
 "metadata": {
  "kernelspec": {
   "display_name": "Python 3",
   "language": "python",
   "name": "python3"
  },
  "language_info": {
   "codemirror_mode": {
    "name": "ipython",
    "version": 3
   },
   "file_extension": ".py",
   "mimetype": "text/x-python",
   "name": "python",
   "nbconvert_exporter": "python",
   "pygments_lexer": "ipython3",
   "version": "3.7.4"
  }
 },
 "nbformat": 4,
 "nbformat_minor": 2
}
