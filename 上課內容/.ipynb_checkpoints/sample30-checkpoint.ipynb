{
 "cells": [
  {
   "cell_type": "code",
   "execution_count": 3,
   "metadata": {},
   "outputs": [
    {
     "name": "stdout",
     "output_type": "stream",
     "text": [
      "下載成功\n",
      "空氣品質指標.csv檔案寫入成功\n"
     ]
    }
   ],
   "source": [
    "#程式下載\n",
    "import urllib3\n",
    "import certifi\n",
    "CSV_URL = \"https://opendata.epa.gov.tw/api/v1/AQI?%24skip=0&%24top=1000&%24format=csv\"\n",
    "http = urllib3.PoolManager(cert_reqs='CERT_REQUIRED',ca_certs=certifi.where())\n",
    "response=http.request('GET',CSV_URL)\n",
    "if response.status == 200:\n",
    "    print(\"下載成功\")\n",
    "    #print(response.data) #data內放的是位元資料\n",
    "    with open(\"空氣品質指標.csv\",'wb') as file:\n",
    "        file.write(response.data)\n",
    "        print(\"空氣品質指標.csv檔案寫入成功\")\n",
    "        file.close()\n",
    "else:\n",
    "    print(\"下載失敗\")"
   ]
  },
  {
   "cell_type": "code",
   "execution_count": 8,
   "metadata": {},
   "outputs": [
    {
     "data": {
      "text/html": [
       "<div>\n",
       "<style scoped>\n",
       "    .dataframe tbody tr th:only-of-type {\n",
       "        vertical-align: middle;\n",
       "    }\n",
       "\n",
       "    .dataframe tbody tr th {\n",
       "        vertical-align: top;\n",
       "    }\n",
       "\n",
       "    .dataframe thead th {\n",
       "        text-align: right;\n",
       "    }\n",
       "</style>\n",
       "<table border=\"1\" class=\"dataframe\">\n",
       "  <thead>\n",
       "    <tr style=\"text-align: right;\">\n",
       "      <th></th>\n",
       "      <th>站名</th>\n",
       "      <th>區域</th>\n",
       "      <th>AQI</th>\n",
       "    </tr>\n",
       "  </thead>\n",
       "  <tbody>\n",
       "    <tr>\n",
       "      <td>0</td>\n",
       "      <td>臺南(北門)</td>\n",
       "      <td>臺南市</td>\n",
       "      <td>18</td>\n",
       "    </tr>\n",
       "    <tr>\n",
       "      <td>1</td>\n",
       "      <td>屏東(琉球)</td>\n",
       "      <td>屏東縣</td>\n",
       "      <td>19</td>\n",
       "    </tr>\n",
       "    <tr>\n",
       "      <td>2</td>\n",
       "      <td>臺南(麻豆)</td>\n",
       "      <td>臺南市</td>\n",
       "      <td>15</td>\n",
       "    </tr>\n",
       "    <tr>\n",
       "      <td>3</td>\n",
       "      <td>彰化(大城)</td>\n",
       "      <td>彰化縣</td>\n",
       "      <td>37</td>\n",
       "    </tr>\n",
       "    <tr>\n",
       "      <td>4</td>\n",
       "      <td>富貴角</td>\n",
       "      <td>新北市</td>\n",
       "      <td>25</td>\n",
       "    </tr>\n",
       "    <tr>\n",
       "      <td>...</td>\n",
       "      <td>...</td>\n",
       "      <td>...</td>\n",
       "      <td>...</td>\n",
       "    </tr>\n",
       "    <tr>\n",
       "      <td>76</td>\n",
       "      <td>土城</td>\n",
       "      <td>新北市</td>\n",
       "      <td>36</td>\n",
       "    </tr>\n",
       "    <tr>\n",
       "      <td>77</td>\n",
       "      <td>新店</td>\n",
       "      <td>新北市</td>\n",
       "      <td>38</td>\n",
       "    </tr>\n",
       "    <tr>\n",
       "      <td>78</td>\n",
       "      <td>萬里</td>\n",
       "      <td>新北市</td>\n",
       "      <td>33</td>\n",
       "    </tr>\n",
       "    <tr>\n",
       "      <td>79</td>\n",
       "      <td>汐止</td>\n",
       "      <td>新北市</td>\n",
       "      <td>42</td>\n",
       "    </tr>\n",
       "    <tr>\n",
       "      <td>80</td>\n",
       "      <td>基隆</td>\n",
       "      <td>基隆市</td>\n",
       "      <td>44</td>\n",
       "    </tr>\n",
       "  </tbody>\n",
       "</table>\n",
       "<p>81 rows × 3 columns</p>\n",
       "</div>"
      ],
      "text/plain": [
       "        站名   區域  AQI\n",
       "0   臺南(北門)  臺南市   18\n",
       "1   屏東(琉球)  屏東縣   19\n",
       "2   臺南(麻豆)  臺南市   15\n",
       "3   彰化(大城)  彰化縣   37\n",
       "4      富貴角  新北市   25\n",
       "..     ...  ...  ...\n",
       "76      土城  新北市   36\n",
       "77      新店  新北市   38\n",
       "78      萬里  新北市   33\n",
       "79      汐止  新北市   42\n",
       "80      基隆  基隆市   44\n",
       "\n",
       "[81 rows x 3 columns]"
      ]
     },
     "execution_count": 8,
     "metadata": {},
     "output_type": "execute_result"
    }
   ],
   "source": [
    "import pandas as pd\n",
    "dataFrame = pd.read_csv('空氣品質指標.csv')\n",
    "smallData=dataFrame.reindex(columns=['SiteName', 'County', 'AQI'])\n",
    "smallData.columns = [\"站名\", \"區域\", \"AQI\"]\n",
    "smallData"
   ]
  },
  {
   "cell_type": "code",
   "execution_count": null,
   "metadata": {},
   "outputs": [],
   "source": []
  }
 ],
 "metadata": {
  "kernelspec": {
   "display_name": "Python 3",
   "language": "python",
   "name": "python3"
  },
  "language_info": {
   "codemirror_mode": {
    "name": "ipython",
    "version": 3
   },
   "file_extension": ".py",
   "mimetype": "text/x-python",
   "name": "python",
   "nbconvert_exporter": "python",
   "pygments_lexer": "ipython3",
   "version": "3.7.4"
  }
 },
 "nbformat": 4,
 "nbformat_minor": 2
}
